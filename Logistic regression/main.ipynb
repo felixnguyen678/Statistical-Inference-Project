{
 "cells": [
  {
   "cell_type": "code",
   "execution_count": 1,
   "metadata": {},
   "outputs": [],
   "source": [
    "import pandas as pd\n",
    "import numpy as np\n",
    "import matplotlib.pyplot as plt\n",
    "import seaborn as sns"
   ]
  },
  {
   "cell_type": "code",
   "execution_count": 2,
   "metadata": {},
   "outputs": [],
   "source": [
    "df = pd.read_csv('data/train.csv')\n",
    "\n",
    "Y_df = df.pop('label')\n",
    "X_df = df"
   ]
  },
  {
   "cell_type": "code",
   "execution_count": 3,
   "metadata": {
    "scrolled": true
   },
   "outputs": [
    {
     "data": {
      "text/html": [
       "<div>\n",
       "<style scoped>\n",
       "    .dataframe tbody tr th:only-of-type {\n",
       "        vertical-align: middle;\n",
       "    }\n",
       "\n",
       "    .dataframe tbody tr th {\n",
       "        vertical-align: top;\n",
       "    }\n",
       "\n",
       "    .dataframe thead th {\n",
       "        text-align: right;\n",
       "    }\n",
       "</style>\n",
       "<table border=\"1\" class=\"dataframe\">\n",
       "  <thead>\n",
       "    <tr style=\"text-align: right;\">\n",
       "      <th></th>\n",
       "      <th>pixel1</th>\n",
       "      <th>pixel2</th>\n",
       "      <th>pixel3</th>\n",
       "      <th>pixel4</th>\n",
       "      <th>pixel5</th>\n",
       "      <th>pixel6</th>\n",
       "      <th>pixel7</th>\n",
       "      <th>pixel8</th>\n",
       "      <th>pixel9</th>\n",
       "      <th>pixel10</th>\n",
       "      <th>...</th>\n",
       "      <th>pixel775</th>\n",
       "      <th>pixel776</th>\n",
       "      <th>pixel777</th>\n",
       "      <th>pixel778</th>\n",
       "      <th>pixel779</th>\n",
       "      <th>pixel780</th>\n",
       "      <th>pixel781</th>\n",
       "      <th>pixel782</th>\n",
       "      <th>pixel783</th>\n",
       "      <th>pixel784</th>\n",
       "    </tr>\n",
       "  </thead>\n",
       "  <tbody>\n",
       "    <tr>\n",
       "      <td>0</td>\n",
       "      <td>123</td>\n",
       "      <td>124</td>\n",
       "      <td>128</td>\n",
       "      <td>133</td>\n",
       "      <td>137</td>\n",
       "      <td>143</td>\n",
       "      <td>147</td>\n",
       "      <td>151</td>\n",
       "      <td>156</td>\n",
       "      <td>159</td>\n",
       "      <td>...</td>\n",
       "      <td>16</td>\n",
       "      <td>17</td>\n",
       "      <td>17</td>\n",
       "      <td>17</td>\n",
       "      <td>13</td>\n",
       "      <td>38</td>\n",
       "      <td>212</td>\n",
       "      <td>219</td>\n",
       "      <td>218</td>\n",
       "      <td>219</td>\n",
       "    </tr>\n",
       "    <tr>\n",
       "      <td>1</td>\n",
       "      <td>141</td>\n",
       "      <td>142</td>\n",
       "      <td>143</td>\n",
       "      <td>145</td>\n",
       "      <td>147</td>\n",
       "      <td>149</td>\n",
       "      <td>150</td>\n",
       "      <td>151</td>\n",
       "      <td>151</td>\n",
       "      <td>154</td>\n",
       "      <td>...</td>\n",
       "      <td>180</td>\n",
       "      <td>179</td>\n",
       "      <td>180</td>\n",
       "      <td>180</td>\n",
       "      <td>181</td>\n",
       "      <td>181</td>\n",
       "      <td>182</td>\n",
       "      <td>182</td>\n",
       "      <td>182</td>\n",
       "      <td>184</td>\n",
       "    </tr>\n",
       "    <tr>\n",
       "      <td>2</td>\n",
       "      <td>217</td>\n",
       "      <td>218</td>\n",
       "      <td>218</td>\n",
       "      <td>218</td>\n",
       "      <td>218</td>\n",
       "      <td>218</td>\n",
       "      <td>217</td>\n",
       "      <td>218</td>\n",
       "      <td>217</td>\n",
       "      <td>217</td>\n",
       "      <td>...</td>\n",
       "      <td>239</td>\n",
       "      <td>241</td>\n",
       "      <td>239</td>\n",
       "      <td>239</td>\n",
       "      <td>237</td>\n",
       "      <td>235</td>\n",
       "      <td>233</td>\n",
       "      <td>232</td>\n",
       "      <td>231</td>\n",
       "      <td>228</td>\n",
       "    </tr>\n",
       "    <tr>\n",
       "      <td>3</td>\n",
       "      <td>214</td>\n",
       "      <td>215</td>\n",
       "      <td>217</td>\n",
       "      <td>216</td>\n",
       "      <td>217</td>\n",
       "      <td>217</td>\n",
       "      <td>218</td>\n",
       "      <td>218</td>\n",
       "      <td>220</td>\n",
       "      <td>219</td>\n",
       "      <td>...</td>\n",
       "      <td>74</td>\n",
       "      <td>233</td>\n",
       "      <td>255</td>\n",
       "      <td>255</td>\n",
       "      <td>255</td>\n",
       "      <td>255</td>\n",
       "      <td>255</td>\n",
       "      <td>255</td>\n",
       "      <td>255</td>\n",
       "      <td>255</td>\n",
       "    </tr>\n",
       "    <tr>\n",
       "      <td>4</td>\n",
       "      <td>134</td>\n",
       "      <td>137</td>\n",
       "      <td>140</td>\n",
       "      <td>142</td>\n",
       "      <td>144</td>\n",
       "      <td>145</td>\n",
       "      <td>145</td>\n",
       "      <td>147</td>\n",
       "      <td>148</td>\n",
       "      <td>149</td>\n",
       "      <td>...</td>\n",
       "      <td>213</td>\n",
       "      <td>210</td>\n",
       "      <td>211</td>\n",
       "      <td>211</td>\n",
       "      <td>211</td>\n",
       "      <td>209</td>\n",
       "      <td>208</td>\n",
       "      <td>208</td>\n",
       "      <td>208</td>\n",
       "      <td>207</td>\n",
       "    </tr>\n",
       "  </tbody>\n",
       "</table>\n",
       "<p>5 rows × 784 columns</p>\n",
       "</div>"
      ],
      "text/plain": [
       "   pixel1  pixel2  pixel3  pixel4  pixel5  pixel6  pixel7  pixel8  pixel9  \\\n",
       "0     123     124     128     133     137     143     147     151     156   \n",
       "1     141     142     143     145     147     149     150     151     151   \n",
       "2     217     218     218     218     218     218     217     218     217   \n",
       "3     214     215     217     216     217     217     218     218     220   \n",
       "4     134     137     140     142     144     145     145     147     148   \n",
       "\n",
       "   pixel10  ...  pixel775  pixel776  pixel777  pixel778  pixel779  pixel780  \\\n",
       "0      159  ...        16        17        17        17        13        38   \n",
       "1      154  ...       180       179       180       180       181       181   \n",
       "2      217  ...       239       241       239       239       237       235   \n",
       "3      219  ...        74       233       255       255       255       255   \n",
       "4      149  ...       213       210       211       211       211       209   \n",
       "\n",
       "   pixel781  pixel782  pixel783  pixel784  \n",
       "0       212       219       218       219  \n",
       "1       182       182       182       184  \n",
       "2       233       232       231       228  \n",
       "3       255       255       255       255  \n",
       "4       208       208       208       207  \n",
       "\n",
       "[5 rows x 784 columns]"
      ]
     },
     "execution_count": 3,
     "metadata": {},
     "output_type": "execute_result"
    }
   ],
   "source": [
    "X_df.head()"
   ]
  },
  {
   "cell_type": "code",
   "execution_count": 4,
   "metadata": {
    "scrolled": true
   },
   "outputs": [
    {
     "data": {
      "text/plain": [
       "0    16\n",
       "1     0\n",
       "2     8\n",
       "3     4\n",
       "4    10\n",
       "Name: label, dtype: int64"
      ]
     },
     "execution_count": 4,
     "metadata": {},
     "output_type": "execute_result"
    }
   ],
   "source": [
    "Y_df.head()"
   ]
  },
  {
   "cell_type": "markdown",
   "metadata": {},
   "source": [
    "# Split train-val"
   ]
  },
  {
   "cell_type": "markdown",
   "metadata": {},
   "source": [
    "# Normalization"
   ]
  },
  {
   "cell_type": "code",
   "execution_count": 5,
   "metadata": {
    "scrolled": true
   },
   "outputs": [],
   "source": [
    "X_df = X_df/255"
   ]
  },
  {
   "cell_type": "code",
   "execution_count": 6,
   "metadata": {},
   "outputs": [
    {
     "data": {
      "text/html": [
       "<div>\n",
       "<style scoped>\n",
       "    .dataframe tbody tr th:only-of-type {\n",
       "        vertical-align: middle;\n",
       "    }\n",
       "\n",
       "    .dataframe tbody tr th {\n",
       "        vertical-align: top;\n",
       "    }\n",
       "\n",
       "    .dataframe thead th {\n",
       "        text-align: right;\n",
       "    }\n",
       "</style>\n",
       "<table border=\"1\" class=\"dataframe\">\n",
       "  <thead>\n",
       "    <tr style=\"text-align: right;\">\n",
       "      <th></th>\n",
       "      <th>pixel1</th>\n",
       "      <th>pixel2</th>\n",
       "      <th>pixel3</th>\n",
       "      <th>pixel4</th>\n",
       "      <th>pixel5</th>\n",
       "      <th>pixel6</th>\n",
       "      <th>pixel7</th>\n",
       "      <th>pixel8</th>\n",
       "      <th>pixel9</th>\n",
       "      <th>pixel10</th>\n",
       "      <th>...</th>\n",
       "      <th>pixel775</th>\n",
       "      <th>pixel776</th>\n",
       "      <th>pixel777</th>\n",
       "      <th>pixel778</th>\n",
       "      <th>pixel779</th>\n",
       "      <th>pixel780</th>\n",
       "      <th>pixel781</th>\n",
       "      <th>pixel782</th>\n",
       "      <th>pixel783</th>\n",
       "      <th>pixel784</th>\n",
       "    </tr>\n",
       "  </thead>\n",
       "  <tbody>\n",
       "    <tr>\n",
       "      <td>0</td>\n",
       "      <td>0.482353</td>\n",
       "      <td>0.486275</td>\n",
       "      <td>0.501961</td>\n",
       "      <td>0.521569</td>\n",
       "      <td>0.537255</td>\n",
       "      <td>0.560784</td>\n",
       "      <td>0.576471</td>\n",
       "      <td>0.592157</td>\n",
       "      <td>0.611765</td>\n",
       "      <td>0.623529</td>\n",
       "      <td>...</td>\n",
       "      <td>0.062745</td>\n",
       "      <td>0.066667</td>\n",
       "      <td>0.066667</td>\n",
       "      <td>0.066667</td>\n",
       "      <td>0.050980</td>\n",
       "      <td>0.149020</td>\n",
       "      <td>0.831373</td>\n",
       "      <td>0.858824</td>\n",
       "      <td>0.854902</td>\n",
       "      <td>0.858824</td>\n",
       "    </tr>\n",
       "    <tr>\n",
       "      <td>1</td>\n",
       "      <td>0.552941</td>\n",
       "      <td>0.556863</td>\n",
       "      <td>0.560784</td>\n",
       "      <td>0.568627</td>\n",
       "      <td>0.576471</td>\n",
       "      <td>0.584314</td>\n",
       "      <td>0.588235</td>\n",
       "      <td>0.592157</td>\n",
       "      <td>0.592157</td>\n",
       "      <td>0.603922</td>\n",
       "      <td>...</td>\n",
       "      <td>0.705882</td>\n",
       "      <td>0.701961</td>\n",
       "      <td>0.705882</td>\n",
       "      <td>0.705882</td>\n",
       "      <td>0.709804</td>\n",
       "      <td>0.709804</td>\n",
       "      <td>0.713725</td>\n",
       "      <td>0.713725</td>\n",
       "      <td>0.713725</td>\n",
       "      <td>0.721569</td>\n",
       "    </tr>\n",
       "    <tr>\n",
       "      <td>2</td>\n",
       "      <td>0.850980</td>\n",
       "      <td>0.854902</td>\n",
       "      <td>0.854902</td>\n",
       "      <td>0.854902</td>\n",
       "      <td>0.854902</td>\n",
       "      <td>0.854902</td>\n",
       "      <td>0.850980</td>\n",
       "      <td>0.854902</td>\n",
       "      <td>0.850980</td>\n",
       "      <td>0.850980</td>\n",
       "      <td>...</td>\n",
       "      <td>0.937255</td>\n",
       "      <td>0.945098</td>\n",
       "      <td>0.937255</td>\n",
       "      <td>0.937255</td>\n",
       "      <td>0.929412</td>\n",
       "      <td>0.921569</td>\n",
       "      <td>0.913725</td>\n",
       "      <td>0.909804</td>\n",
       "      <td>0.905882</td>\n",
       "      <td>0.894118</td>\n",
       "    </tr>\n",
       "    <tr>\n",
       "      <td>3</td>\n",
       "      <td>0.839216</td>\n",
       "      <td>0.843137</td>\n",
       "      <td>0.850980</td>\n",
       "      <td>0.847059</td>\n",
       "      <td>0.850980</td>\n",
       "      <td>0.850980</td>\n",
       "      <td>0.854902</td>\n",
       "      <td>0.854902</td>\n",
       "      <td>0.862745</td>\n",
       "      <td>0.858824</td>\n",
       "      <td>...</td>\n",
       "      <td>0.290196</td>\n",
       "      <td>0.913725</td>\n",
       "      <td>1.000000</td>\n",
       "      <td>1.000000</td>\n",
       "      <td>1.000000</td>\n",
       "      <td>1.000000</td>\n",
       "      <td>1.000000</td>\n",
       "      <td>1.000000</td>\n",
       "      <td>1.000000</td>\n",
       "      <td>1.000000</td>\n",
       "    </tr>\n",
       "    <tr>\n",
       "      <td>4</td>\n",
       "      <td>0.525490</td>\n",
       "      <td>0.537255</td>\n",
       "      <td>0.549020</td>\n",
       "      <td>0.556863</td>\n",
       "      <td>0.564706</td>\n",
       "      <td>0.568627</td>\n",
       "      <td>0.568627</td>\n",
       "      <td>0.576471</td>\n",
       "      <td>0.580392</td>\n",
       "      <td>0.584314</td>\n",
       "      <td>...</td>\n",
       "      <td>0.835294</td>\n",
       "      <td>0.823529</td>\n",
       "      <td>0.827451</td>\n",
       "      <td>0.827451</td>\n",
       "      <td>0.827451</td>\n",
       "      <td>0.819608</td>\n",
       "      <td>0.815686</td>\n",
       "      <td>0.815686</td>\n",
       "      <td>0.815686</td>\n",
       "      <td>0.811765</td>\n",
       "    </tr>\n",
       "    <tr>\n",
       "      <td>...</td>\n",
       "      <td>...</td>\n",
       "      <td>...</td>\n",
       "      <td>...</td>\n",
       "      <td>...</td>\n",
       "      <td>...</td>\n",
       "      <td>...</td>\n",
       "      <td>...</td>\n",
       "      <td>...</td>\n",
       "      <td>...</td>\n",
       "      <td>...</td>\n",
       "      <td>...</td>\n",
       "      <td>...</td>\n",
       "      <td>...</td>\n",
       "      <td>...</td>\n",
       "      <td>...</td>\n",
       "      <td>...</td>\n",
       "      <td>...</td>\n",
       "      <td>...</td>\n",
       "      <td>...</td>\n",
       "      <td>...</td>\n",
       "      <td>...</td>\n",
       "    </tr>\n",
       "    <tr>\n",
       "      <td>26995</td>\n",
       "      <td>0.729412</td>\n",
       "      <td>0.733333</td>\n",
       "      <td>0.745098</td>\n",
       "      <td>0.760784</td>\n",
       "      <td>0.772549</td>\n",
       "      <td>0.776471</td>\n",
       "      <td>0.784314</td>\n",
       "      <td>0.792157</td>\n",
       "      <td>0.800000</td>\n",
       "      <td>0.800000</td>\n",
       "      <td>...</td>\n",
       "      <td>0.768627</td>\n",
       "      <td>0.721569</td>\n",
       "      <td>0.654902</td>\n",
       "      <td>0.490196</td>\n",
       "      <td>0.792157</td>\n",
       "      <td>0.964706</td>\n",
       "      <td>0.929412</td>\n",
       "      <td>0.933333</td>\n",
       "      <td>0.933333</td>\n",
       "      <td>0.933333</td>\n",
       "    </tr>\n",
       "    <tr>\n",
       "      <td>26996</td>\n",
       "      <td>0.803922</td>\n",
       "      <td>0.807843</td>\n",
       "      <td>0.811765</td>\n",
       "      <td>0.807843</td>\n",
       "      <td>0.811765</td>\n",
       "      <td>0.815686</td>\n",
       "      <td>0.815686</td>\n",
       "      <td>0.811765</td>\n",
       "      <td>0.815686</td>\n",
       "      <td>0.815686</td>\n",
       "      <td>...</td>\n",
       "      <td>0.674510</td>\n",
       "      <td>0.686275</td>\n",
       "      <td>0.717647</td>\n",
       "      <td>0.729412</td>\n",
       "      <td>0.709804</td>\n",
       "      <td>0.717647</td>\n",
       "      <td>0.756863</td>\n",
       "      <td>0.674510</td>\n",
       "      <td>0.623529</td>\n",
       "      <td>0.701961</td>\n",
       "    </tr>\n",
       "    <tr>\n",
       "      <td>26997</td>\n",
       "      <td>0.568627</td>\n",
       "      <td>0.603922</td>\n",
       "      <td>0.623529</td>\n",
       "      <td>0.643137</td>\n",
       "      <td>0.662745</td>\n",
       "      <td>0.674510</td>\n",
       "      <td>0.686275</td>\n",
       "      <td>0.694118</td>\n",
       "      <td>0.705882</td>\n",
       "      <td>0.721569</td>\n",
       "      <td>...</td>\n",
       "      <td>0.909804</td>\n",
       "      <td>0.913725</td>\n",
       "      <td>0.921569</td>\n",
       "      <td>0.925490</td>\n",
       "      <td>0.929412</td>\n",
       "      <td>0.929412</td>\n",
       "      <td>0.933333</td>\n",
       "      <td>0.937255</td>\n",
       "      <td>0.937255</td>\n",
       "      <td>0.937255</td>\n",
       "    </tr>\n",
       "    <tr>\n",
       "      <td>26998</td>\n",
       "      <td>0.462745</td>\n",
       "      <td>0.478431</td>\n",
       "      <td>0.494118</td>\n",
       "      <td>0.501961</td>\n",
       "      <td>0.513725</td>\n",
       "      <td>0.517647</td>\n",
       "      <td>0.521569</td>\n",
       "      <td>0.525490</td>\n",
       "      <td>0.525490</td>\n",
       "      <td>0.525490</td>\n",
       "      <td>...</td>\n",
       "      <td>0.749020</td>\n",
       "      <td>0.792157</td>\n",
       "      <td>0.788235</td>\n",
       "      <td>0.788235</td>\n",
       "      <td>0.788235</td>\n",
       "      <td>0.792157</td>\n",
       "      <td>0.788235</td>\n",
       "      <td>0.784314</td>\n",
       "      <td>0.780392</td>\n",
       "      <td>0.780392</td>\n",
       "    </tr>\n",
       "    <tr>\n",
       "      <td>26999</td>\n",
       "      <td>0.792157</td>\n",
       "      <td>0.792157</td>\n",
       "      <td>0.792157</td>\n",
       "      <td>0.792157</td>\n",
       "      <td>0.800000</td>\n",
       "      <td>0.800000</td>\n",
       "      <td>0.796078</td>\n",
       "      <td>0.800000</td>\n",
       "      <td>0.800000</td>\n",
       "      <td>0.800000</td>\n",
       "      <td>...</td>\n",
       "      <td>0.933333</td>\n",
       "      <td>0.929412</td>\n",
       "      <td>0.925490</td>\n",
       "      <td>0.925490</td>\n",
       "      <td>0.913725</td>\n",
       "      <td>0.917647</td>\n",
       "      <td>0.917647</td>\n",
       "      <td>0.905882</td>\n",
       "      <td>0.898039</td>\n",
       "      <td>0.894118</td>\n",
       "    </tr>\n",
       "  </tbody>\n",
       "</table>\n",
       "<p>27000 rows × 784 columns</p>\n",
       "</div>"
      ],
      "text/plain": [
       "         pixel1    pixel2    pixel3    pixel4    pixel5    pixel6    pixel7  \\\n",
       "0      0.482353  0.486275  0.501961  0.521569  0.537255  0.560784  0.576471   \n",
       "1      0.552941  0.556863  0.560784  0.568627  0.576471  0.584314  0.588235   \n",
       "2      0.850980  0.854902  0.854902  0.854902  0.854902  0.854902  0.850980   \n",
       "3      0.839216  0.843137  0.850980  0.847059  0.850980  0.850980  0.854902   \n",
       "4      0.525490  0.537255  0.549020  0.556863  0.564706  0.568627  0.568627   \n",
       "...         ...       ...       ...       ...       ...       ...       ...   \n",
       "26995  0.729412  0.733333  0.745098  0.760784  0.772549  0.776471  0.784314   \n",
       "26996  0.803922  0.807843  0.811765  0.807843  0.811765  0.815686  0.815686   \n",
       "26997  0.568627  0.603922  0.623529  0.643137  0.662745  0.674510  0.686275   \n",
       "26998  0.462745  0.478431  0.494118  0.501961  0.513725  0.517647  0.521569   \n",
       "26999  0.792157  0.792157  0.792157  0.792157  0.800000  0.800000  0.796078   \n",
       "\n",
       "         pixel8    pixel9   pixel10  ...  pixel775  pixel776  pixel777  \\\n",
       "0      0.592157  0.611765  0.623529  ...  0.062745  0.066667  0.066667   \n",
       "1      0.592157  0.592157  0.603922  ...  0.705882  0.701961  0.705882   \n",
       "2      0.854902  0.850980  0.850980  ...  0.937255  0.945098  0.937255   \n",
       "3      0.854902  0.862745  0.858824  ...  0.290196  0.913725  1.000000   \n",
       "4      0.576471  0.580392  0.584314  ...  0.835294  0.823529  0.827451   \n",
       "...         ...       ...       ...  ...       ...       ...       ...   \n",
       "26995  0.792157  0.800000  0.800000  ...  0.768627  0.721569  0.654902   \n",
       "26996  0.811765  0.815686  0.815686  ...  0.674510  0.686275  0.717647   \n",
       "26997  0.694118  0.705882  0.721569  ...  0.909804  0.913725  0.921569   \n",
       "26998  0.525490  0.525490  0.525490  ...  0.749020  0.792157  0.788235   \n",
       "26999  0.800000  0.800000  0.800000  ...  0.933333  0.929412  0.925490   \n",
       "\n",
       "       pixel778  pixel779  pixel780  pixel781  pixel782  pixel783  pixel784  \n",
       "0      0.066667  0.050980  0.149020  0.831373  0.858824  0.854902  0.858824  \n",
       "1      0.705882  0.709804  0.709804  0.713725  0.713725  0.713725  0.721569  \n",
       "2      0.937255  0.929412  0.921569  0.913725  0.909804  0.905882  0.894118  \n",
       "3      1.000000  1.000000  1.000000  1.000000  1.000000  1.000000  1.000000  \n",
       "4      0.827451  0.827451  0.819608  0.815686  0.815686  0.815686  0.811765  \n",
       "...         ...       ...       ...       ...       ...       ...       ...  \n",
       "26995  0.490196  0.792157  0.964706  0.929412  0.933333  0.933333  0.933333  \n",
       "26996  0.729412  0.709804  0.717647  0.756863  0.674510  0.623529  0.701961  \n",
       "26997  0.925490  0.929412  0.929412  0.933333  0.937255  0.937255  0.937255  \n",
       "26998  0.788235  0.788235  0.792157  0.788235  0.784314  0.780392  0.780392  \n",
       "26999  0.925490  0.913725  0.917647  0.917647  0.905882  0.898039  0.894118  \n",
       "\n",
       "[27000 rows x 784 columns]"
      ]
     },
     "execution_count": 6,
     "metadata": {},
     "output_type": "execute_result"
    }
   ],
   "source": [
    "X_df"
   ]
  },
  {
   "cell_type": "code",
   "execution_count": 7,
   "metadata": {},
   "outputs": [
    {
     "name": "stdout",
     "output_type": "stream",
     "text": [
      "(21600, 784) (21600,) (5400, 784) (5400,)\n"
     ]
    }
   ],
   "source": [
    "from sklearn.model_selection import train_test_split\n",
    "\n",
    "X_train, X_val, Y_train, Y_val = train_test_split(X_df, Y_df, test_size=0.2, random_state=24)\n",
    "\n",
    "print(X_train.shape, Y_train.shape, X_val.shape, Y_val.shape)"
   ]
  },
  {
   "cell_type": "markdown",
   "metadata": {},
   "source": [
    "# Display image"
   ]
  },
  {
   "cell_type": "code",
   "execution_count": 8,
   "metadata": {},
   "outputs": [],
   "source": [
    "def display_image(index):\n",
    "    pixels = X_train.iloc[index]\n",
    "    image = [[pixels[28*i + j] for j in range(28)] for i in range(28)]\n",
    "    plt.imshow(image, cmap='Greys')\n",
    "    plt.colorbar()"
   ]
  },
  {
   "cell_type": "code",
   "execution_count": 9,
   "metadata": {
    "scrolled": true
   },
   "outputs": [
    {
     "data": {
      "image/png": "[encoded data removed]",
      "text/plain": [
       "<Figure size 432x288 with 2 Axes>"
      ]
     },
     "metadata": {
      "needs_background": "light"
     },
     "output_type": "display_data"
    }
   ],
   "source": [
    "random_index = np.random.choice(range(len(X_train)))\n",
    "display_image(random_index)"
   ]
  },
  {
   "cell_type": "markdown",
   "metadata": {},
   "source": [
    "# Train"
   ]
  },
  {
   "cell_type": "code",
   "execution_count": 10,
   "metadata": {},
   "outputs": [],
   "source": [
    "from sklearn.linear_model import LogisticRegression"
   ]
  },
  {
   "cell_type": "code",
   "execution_count": 11,
   "metadata": {},
   "outputs": [
    {
     "name": "stderr",
     "output_type": "stream",
     "text": [
      "F:\\anaconda\\lib\\site-packages\\sklearn\\linear_model\\logistic.py:432: FutureWarning: Default solver will be changed to 'lbfgs' in 0.22. Specify a solver to silence this warning.\n",
      "  FutureWarning)\n"
     ]
    }
   ],
   "source": [
    "clf = LogisticRegression(random_state=24, multi_class='ovr')\n",
    "model = clf.fit(X_train, Y_train)"
   ]
  },
  {
   "cell_type": "markdown",
   "metadata": {},
   "source": [
    "# Test"
   ]
  },
  {
   "cell_type": "code",
   "execution_count": 12,
   "metadata": {},
   "outputs": [
    {
     "data": {
      "text/plain": [
       "array([ 3,  8, 22, ..., 21, 14, 15], dtype=int64)"
      ]
     },
     "execution_count": 12,
     "metadata": {},
     "output_type": "execute_result"
    }
   ],
   "source": [
    "model.predict(X_train)"
   ]
  },
  {
   "cell_type": "code",
   "execution_count": 13,
   "metadata": {},
   "outputs": [
    {
     "data": {
      "text/plain": [
       "6940      3\n",
       "22383     8\n",
       "19905    22\n",
       "13659     2\n",
       "22725    14\n",
       "         ..\n",
       "19857     0\n",
       "24919    18\n",
       "14528    21\n",
       "899      14\n",
       "12706    15\n",
       "Name: label, Length: 21600, dtype: int64"
      ]
     },
     "execution_count": 13,
     "metadata": {},
     "output_type": "execute_result"
    }
   ],
   "source": [
    "Y_train"
   ]
  },
  {
   "cell_type": "code",
   "execution_count": 14,
   "metadata": {
    "scrolled": true
   },
   "outputs": [
    {
     "name": "stdout",
     "output_type": "stream",
     "text": [
      "train accuracy:  0.9988425925925926\n",
      "val accuracy:  0.9979629629629629\n"
     ]
    }
   ],
   "source": [
    "from sklearn.metrics import accuracy_score\n",
    "print(\"train accuracy: \", accuracy_score(model.predict(X_train), Y_train))\n",
    "print(\"val accuracy: \", accuracy_score(model.predict(X_val), Y_val))"
   ]
  },
  {
   "cell_type": "markdown",
   "metadata": {},
   "source": [
    "# Save model"
   ]
  },
  {
   "cell_type": "code",
   "execution_count": 15,
   "metadata": {},
   "outputs": [],
   "source": [
    "saved_file = \"last_weight_logistic\""
   ]
  },
  {
   "cell_type": "code",
   "execution_count": 16,
   "metadata": {},
   "outputs": [],
   "source": [
    "import pickle\n",
    "\n",
    "pickle.dump(model, open(saved_file, 'wb+'))"
   ]
  },
  {
   "cell_type": "markdown",
   "metadata": {},
   "source": [
    "# Load saved model"
   ]
  },
  {
   "cell_type": "code",
   "execution_count": 17,
   "metadata": {},
   "outputs": [],
   "source": [
    "model = pickle.load(open(saved_file, 'rb'))"
   ]
  },
  {
   "cell_type": "code",
   "execution_count": 18,
   "metadata": {},
   "outputs": [
    {
     "name": "stdout",
     "output_type": "stream",
     "text": [
      "train accuracy:  0.9988425925925926\n",
      "val accuracy:  0.9979629629629629\n"
     ]
    }
   ],
   "source": [
    "from sklearn.metrics import accuracy_score\n",
    "print(\"train accuracy: \", accuracy_score(model.predict(X_train), Y_train))\n",
    "print(\"val accuracy: \", accuracy_score(model.predict(X_val), Y_val))"
   ]
  }
 ],
 "metadata": {
  "kernelspec": {
   "display_name": "Python 3",
   "language": "python",
   "name": "python3"
  },
  "language_info": {
   "codemirror_mode": {
    "name": "ipython",
    "version": 3
   },
   "file_extension": ".py",
   "mimetype": "text/x-python",
   "name": "python",
   "nbconvert_exporter": "python",
   "pygments_lexer": "ipython3",
   "version": "3.7.4"
  }
 },
 "nbformat": 4,
 "nbformat_minor": 2
}
